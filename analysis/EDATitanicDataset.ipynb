{
 "cells": [
  {
   "cell_type": "code",
   "execution_count": 1,
   "id": "98140340-7206-4090-b06f-3095658f2288",
   "metadata": {},
   "outputs": [],
   "source": [
    "# To perform EDA on Titanic dataset"
   ]
  },
  {
   "cell_type": "code",
   "execution_count": 2,
   "id": "e6dac011-1c00-4a34-9e9c-f6cbd90a786e",
   "metadata": {},
   "outputs": [],
   "source": [
    "# Step:01 Load data\n",
    "file_path <- 'C:/Users/arush/OneDrive/Documents/VSCode/EDA/dataset/Titanic-Dataset.csv'\n",
    "titanic <- read.csv(file_path, stringsAsFactors = FALSE)"
   ]
  },
  {
   "cell_type": "code",
   "execution_count": 3,
   "id": "208728c2-b47c-458b-9e32-7ae5e194da31",
   "metadata": {},
   "outputs": [
    {
     "data": {
      "text/html": [
       "<table class=\"dataframe\">\n",
       "<caption>A data.frame: 6 × 12</caption>\n",
       "<thead>\n",
       "\t<tr><th></th><th scope=col>PassengerId</th><th scope=col>Survived</th><th scope=col>Pclass</th><th scope=col>Name</th><th scope=col>Sex</th><th scope=col>Age</th><th scope=col>SibSp</th><th scope=col>Parch</th><th scope=col>Ticket</th><th scope=col>Fare</th><th scope=col>Cabin</th><th scope=col>Embarked</th></tr>\n",
       "\t<tr><th></th><th scope=col>&lt;int&gt;</th><th scope=col>&lt;int&gt;</th><th scope=col>&lt;int&gt;</th><th scope=col>&lt;chr&gt;</th><th scope=col>&lt;chr&gt;</th><th scope=col>&lt;dbl&gt;</th><th scope=col>&lt;int&gt;</th><th scope=col>&lt;int&gt;</th><th scope=col>&lt;chr&gt;</th><th scope=col>&lt;dbl&gt;</th><th scope=col>&lt;chr&gt;</th><th scope=col>&lt;chr&gt;</th></tr>\n",
       "</thead>\n",
       "<tbody>\n",
       "\t<tr><th scope=row>1</th><td>1</td><td>0</td><td>3</td><td>Braund, Mr. Owen Harris                            </td><td>male  </td><td>22</td><td>1</td><td>0</td><td>A/5 21171       </td><td> 7.2500</td><td>    </td><td>S</td></tr>\n",
       "\t<tr><th scope=row>2</th><td>2</td><td>1</td><td>1</td><td>Cumings, Mrs. John Bradley (Florence Briggs Thayer)</td><td>female</td><td>38</td><td>1</td><td>0</td><td>PC 17599        </td><td>71.2833</td><td>C85 </td><td>C</td></tr>\n",
       "\t<tr><th scope=row>3</th><td>3</td><td>1</td><td>3</td><td>Heikkinen, Miss. Laina                             </td><td>female</td><td>26</td><td>0</td><td>0</td><td>STON/O2. 3101282</td><td> 7.9250</td><td>    </td><td>S</td></tr>\n",
       "\t<tr><th scope=row>4</th><td>4</td><td>1</td><td>1</td><td>Futrelle, Mrs. Jacques Heath (Lily May Peel)       </td><td>female</td><td>35</td><td>1</td><td>0</td><td>113803          </td><td>53.1000</td><td>C123</td><td>S</td></tr>\n",
       "\t<tr><th scope=row>5</th><td>5</td><td>0</td><td>3</td><td>Allen, Mr. William Henry                           </td><td>male  </td><td>35</td><td>0</td><td>0</td><td>373450          </td><td> 8.0500</td><td>    </td><td>S</td></tr>\n",
       "\t<tr><th scope=row>6</th><td>6</td><td>0</td><td>3</td><td>Moran, Mr. James                                   </td><td>male  </td><td>NA</td><td>0</td><td>0</td><td>330877          </td><td> 8.4583</td><td>    </td><td>Q</td></tr>\n",
       "</tbody>\n",
       "</table>\n"
      ],
      "text/latex": [
       "A data.frame: 6 × 12\n",
       "\\begin{tabular}{r|llllllllllll}\n",
       "  & PassengerId & Survived & Pclass & Name & Sex & Age & SibSp & Parch & Ticket & Fare & Cabin & Embarked\\\\\n",
       "  & <int> & <int> & <int> & <chr> & <chr> & <dbl> & <int> & <int> & <chr> & <dbl> & <chr> & <chr>\\\\\n",
       "\\hline\n",
       "\t1 & 1 & 0 & 3 & Braund, Mr. Owen Harris                             & male   & 22 & 1 & 0 & A/5 21171        &  7.2500 &      & S\\\\\n",
       "\t2 & 2 & 1 & 1 & Cumings, Mrs. John Bradley (Florence Briggs Thayer) & female & 38 & 1 & 0 & PC 17599         & 71.2833 & C85  & C\\\\\n",
       "\t3 & 3 & 1 & 3 & Heikkinen, Miss. Laina                              & female & 26 & 0 & 0 & STON/O2. 3101282 &  7.9250 &      & S\\\\\n",
       "\t4 & 4 & 1 & 1 & Futrelle, Mrs. Jacques Heath (Lily May Peel)        & female & 35 & 1 & 0 & 113803           & 53.1000 & C123 & S\\\\\n",
       "\t5 & 5 & 0 & 3 & Allen, Mr. William Henry                            & male   & 35 & 0 & 0 & 373450           &  8.0500 &      & S\\\\\n",
       "\t6 & 6 & 0 & 3 & Moran, Mr. James                                    & male   & NA & 0 & 0 & 330877           &  8.4583 &      & Q\\\\\n",
       "\\end{tabular}\n"
      ],
      "text/markdown": [
       "\n",
       "A data.frame: 6 × 12\n",
       "\n",
       "| <!--/--> | PassengerId &lt;int&gt; | Survived &lt;int&gt; | Pclass &lt;int&gt; | Name &lt;chr&gt; | Sex &lt;chr&gt; | Age &lt;dbl&gt; | SibSp &lt;int&gt; | Parch &lt;int&gt; | Ticket &lt;chr&gt; | Fare &lt;dbl&gt; | Cabin &lt;chr&gt; | Embarked &lt;chr&gt; |\n",
       "|---|---|---|---|---|---|---|---|---|---|---|---|---|\n",
       "| 1 | 1 | 0 | 3 | Braund, Mr. Owen Harris                             | male   | 22 | 1 | 0 | A/5 21171        |  7.2500 | <!----> | S |\n",
       "| 2 | 2 | 1 | 1 | Cumings, Mrs. John Bradley (Florence Briggs Thayer) | female | 38 | 1 | 0 | PC 17599         | 71.2833 | C85  | C |\n",
       "| 3 | 3 | 1 | 3 | Heikkinen, Miss. Laina                              | female | 26 | 0 | 0 | STON/O2. 3101282 |  7.9250 | <!----> | S |\n",
       "| 4 | 4 | 1 | 1 | Futrelle, Mrs. Jacques Heath (Lily May Peel)        | female | 35 | 1 | 0 | 113803           | 53.1000 | C123 | S |\n",
       "| 5 | 5 | 0 | 3 | Allen, Mr. William Henry                            | male   | 35 | 0 | 0 | 373450           |  8.0500 | <!----> | S |\n",
       "| 6 | 6 | 0 | 3 | Moran, Mr. James                                    | male   | NA | 0 | 0 | 330877           |  8.4583 | <!----> | Q |\n",
       "\n"
      ],
      "text/plain": [
       "  PassengerId Survived Pclass\n",
       "1 1           0        3     \n",
       "2 2           1        1     \n",
       "3 3           1        3     \n",
       "4 4           1        1     \n",
       "5 5           0        3     \n",
       "6 6           0        3     \n",
       "  Name                                                Sex    Age SibSp Parch\n",
       "1 Braund, Mr. Owen Harris                             male   22  1     0    \n",
       "2 Cumings, Mrs. John Bradley (Florence Briggs Thayer) female 38  1     0    \n",
       "3 Heikkinen, Miss. Laina                              female 26  0     0    \n",
       "4 Futrelle, Mrs. Jacques Heath (Lily May Peel)        female 35  1     0    \n",
       "5 Allen, Mr. William Henry                            male   35  0     0    \n",
       "6 Moran, Mr. James                                    male   NA  0     0    \n",
       "  Ticket           Fare    Cabin Embarked\n",
       "1 A/5 21171         7.2500       S       \n",
       "2 PC 17599         71.2833 C85   C       \n",
       "3 STON/O2. 3101282  7.9250       S       \n",
       "4 113803           53.1000 C123  S       \n",
       "5 373450            8.0500       S       \n",
       "6 330877            8.4583       Q       "
      ]
     },
     "metadata": {},
     "output_type": "display_data"
    }
   ],
   "source": [
    "head(titanic)"
   ]
  },
  {
   "cell_type": "code",
   "execution_count": 4,
   "id": "50e1899a-275b-48be-a8bb-8abee449dd3e",
   "metadata": {},
   "outputs": [],
   "source": [
    "# Step:02 Initial Exploration of Dataset"
   ]
  },
  {
   "cell_type": "code",
   "execution_count": 5,
   "id": "9d46da04-0eb5-4077-81a7-e67f826ae51f",
   "metadata": {},
   "outputs": [
    {
     "name": "stdout",
     "output_type": "stream",
     "text": [
      "'data.frame':\t891 obs. of  12 variables:\n",
      " $ PassengerId: int  1 2 3 4 5 6 7 8 9 10 ...\n",
      " $ Survived   : int  0 1 1 1 0 0 0 0 1 1 ...\n",
      " $ Pclass     : int  3 1 3 1 3 3 1 3 3 2 ...\n",
      " $ Name       : chr  \"Braund, Mr. Owen Harris\" \"Cumings, Mrs. John Bradley (Florence Briggs Thayer)\" \"Heikkinen, Miss. Laina\" \"Futrelle, Mrs. Jacques Heath (Lily May Peel)\" ...\n",
      " $ Sex        : chr  \"male\" \"female\" \"female\" \"female\" ...\n",
      " $ Age        : num  22 38 26 35 35 NA 54 2 27 14 ...\n",
      " $ SibSp      : int  1 1 0 1 0 0 0 3 0 1 ...\n",
      " $ Parch      : int  0 0 0 0 0 0 0 1 2 0 ...\n",
      " $ Ticket     : chr  \"A/5 21171\" \"PC 17599\" \"STON/O2. 3101282\" \"113803\" ...\n",
      " $ Fare       : num  7.25 71.28 7.92 53.1 8.05 ...\n",
      " $ Cabin      : chr  \"\" \"C85\" \"\" \"C123\" ...\n",
      " $ Embarked   : chr  \"S\" \"C\" \"S\" \"S\" ...\n"
     ]
    }
   ],
   "source": [
    "str(titanic)"
   ]
  },
  {
   "cell_type": "code",
   "execution_count": 6,
   "id": "1cc4b0ad-ca82-43f1-9cdf-3b7b3b18b44f",
   "metadata": {},
   "outputs": [
    {
     "data": {
      "text/plain": [
       "  PassengerId       Survived          Pclass          Name          \n",
       " Min.   :  1.0   Min.   :0.0000   Min.   :1.000   Length:891        \n",
       " 1st Qu.:223.5   1st Qu.:0.0000   1st Qu.:2.000   Class :character  \n",
       " Median :446.0   Median :0.0000   Median :3.000   Mode  :character  \n",
       " Mean   :446.0   Mean   :0.3838   Mean   :2.309                     \n",
       " 3rd Qu.:668.5   3rd Qu.:1.0000   3rd Qu.:3.000                     \n",
       " Max.   :891.0   Max.   :1.0000   Max.   :3.000                     \n",
       "                                                                    \n",
       "     Sex                 Age            SibSp           Parch       \n",
       " Length:891         Min.   : 0.42   Min.   :0.000   Min.   :0.0000  \n",
       " Class :character   1st Qu.:20.12   1st Qu.:0.000   1st Qu.:0.0000  \n",
       " Mode  :character   Median :28.00   Median :0.000   Median :0.0000  \n",
       "                    Mean   :29.70   Mean   :0.523   Mean   :0.3816  \n",
       "                    3rd Qu.:38.00   3rd Qu.:1.000   3rd Qu.:0.0000  \n",
       "                    Max.   :80.00   Max.   :8.000   Max.   :6.0000  \n",
       "                    NA's   :177                                     \n",
       "    Ticket               Fare           Cabin             Embarked        \n",
       " Length:891         Min.   :  0.00   Length:891         Length:891        \n",
       " Class :character   1st Qu.:  7.91   Class :character   Class :character  \n",
       " Mode  :character   Median : 14.45   Mode  :character   Mode  :character  \n",
       "                    Mean   : 32.20                                        \n",
       "                    3rd Qu.: 31.00                                        \n",
       "                    Max.   :512.33                                        \n",
       "                                                                          "
      ]
     },
     "metadata": {},
     "output_type": "display_data"
    }
   ],
   "source": [
    "summary(titanic)"
   ]
  },
  {
   "cell_type": "code",
   "execution_count": 7,
   "id": "38f3ac17-1b23-4fa3-b6fc-fd883be7cc59",
   "metadata": {},
   "outputs": [],
   "source": [
    "# Step:03 Cleaning and Preparing data"
   ]
  },
  {
   "cell_type": "code",
   "execution_count": 8,
   "id": "f2aafbb5-e8d7-4b46-aa88-121024ce04e1",
   "metadata": {},
   "outputs": [],
   "source": [
    "# Dealing with missing values"
   ]
  },
  {
   "cell_type": "code",
   "execution_count": 9,
   "id": "2a2ec8bf-755b-4ea6-a704-adfcd23b0b38",
   "metadata": {},
   "outputs": [
    {
     "data": {
      "text/html": [
       "<style>\n",
       ".dl-inline {width: auto; margin:0; padding: 0}\n",
       ".dl-inline>dt, .dl-inline>dd {float: none; width: auto; display: inline-block}\n",
       ".dl-inline>dt::after {content: \":\\0020\"; padding-right: .5ex}\n",
       ".dl-inline>dt:not(:first-of-type) {padding-left: .5ex}\n",
       "</style><dl class=dl-inline><dt>PassengerId</dt><dd>0</dd><dt>Survived</dt><dd>0</dd><dt>Pclass</dt><dd>0</dd><dt>Name</dt><dd>0</dd><dt>Sex</dt><dd>0</dd><dt>Age</dt><dd>177</dd><dt>SibSp</dt><dd>0</dd><dt>Parch</dt><dd>0</dd><dt>Ticket</dt><dd>0</dd><dt>Fare</dt><dd>0</dd><dt>Cabin</dt><dd>0</dd><dt>Embarked</dt><dd>0</dd></dl>\n"
      ],
      "text/latex": [
       "\\begin{description*}\n",
       "\\item[PassengerId] 0\n",
       "\\item[Survived] 0\n",
       "\\item[Pclass] 0\n",
       "\\item[Name] 0\n",
       "\\item[Sex] 0\n",
       "\\item[Age] 177\n",
       "\\item[SibSp] 0\n",
       "\\item[Parch] 0\n",
       "\\item[Ticket] 0\n",
       "\\item[Fare] 0\n",
       "\\item[Cabin] 0\n",
       "\\item[Embarked] 0\n",
       "\\end{description*}\n"
      ],
      "text/markdown": [
       "PassengerId\n",
       ":   0Survived\n",
       ":   0Pclass\n",
       ":   0Name\n",
       ":   0Sex\n",
       ":   0Age\n",
       ":   177SibSp\n",
       ":   0Parch\n",
       ":   0Ticket\n",
       ":   0Fare\n",
       ":   0Cabin\n",
       ":   0Embarked\n",
       ":   0\n",
       "\n"
      ],
      "text/plain": [
       "PassengerId    Survived      Pclass        Name         Sex         Age \n",
       "          0           0           0           0           0         177 \n",
       "      SibSp       Parch      Ticket        Fare       Cabin    Embarked \n",
       "          0           0           0           0           0           0 "
      ]
     },
     "metadata": {},
     "output_type": "display_data"
    }
   ],
   "source": [
    "# Check for missing values\n",
    "missing_values <- colSums(is.na(titanic))\n",
    "missing_values"
   ]
  },
  {
   "cell_type": "code",
   "execution_count": 10,
   "id": "6a5fa369-1110-4719-a6a8-2e60db7f7f3e",
   "metadata": {},
   "outputs": [],
   "source": [
    "# Missing values only in 'Age'\n",
    "median_age <- median(titanic$Age, na.rm = TRUE)\n",
    "titanic$Age[is.na(titanic$Age)] <- median_age"
   ]
  },
  {
   "cell_type": "code",
   "execution_count": 11,
   "id": "bb60934e-a7f3-4439-9b5d-5b019c1292f4",
   "metadata": {},
   "outputs": [
    {
     "data": {
      "text/html": [
       "<style>\n",
       ".dl-inline {width: auto; margin:0; padding: 0}\n",
       ".dl-inline>dt, .dl-inline>dd {float: none; width: auto; display: inline-block}\n",
       ".dl-inline>dt::after {content: \":\\0020\"; padding-right: .5ex}\n",
       ".dl-inline>dt:not(:first-of-type) {padding-left: .5ex}\n",
       "</style><dl class=dl-inline><dt>PassengerId</dt><dd>0</dd><dt>Survived</dt><dd>0</dd><dt>Pclass</dt><dd>0</dd><dt>Name</dt><dd>0</dd><dt>Sex</dt><dd>0</dd><dt>Age</dt><dd>0</dd><dt>SibSp</dt><dd>0</dd><dt>Parch</dt><dd>0</dd><dt>Ticket</dt><dd>0</dd><dt>Fare</dt><dd>0</dd><dt>Cabin</dt><dd>0</dd><dt>Embarked</dt><dd>0</dd></dl>\n"
      ],
      "text/latex": [
       "\\begin{description*}\n",
       "\\item[PassengerId] 0\n",
       "\\item[Survived] 0\n",
       "\\item[Pclass] 0\n",
       "\\item[Name] 0\n",
       "\\item[Sex] 0\n",
       "\\item[Age] 0\n",
       "\\item[SibSp] 0\n",
       "\\item[Parch] 0\n",
       "\\item[Ticket] 0\n",
       "\\item[Fare] 0\n",
       "\\item[Cabin] 0\n",
       "\\item[Embarked] 0\n",
       "\\end{description*}\n"
      ],
      "text/markdown": [
       "PassengerId\n",
       ":   0Survived\n",
       ":   0Pclass\n",
       ":   0Name\n",
       ":   0Sex\n",
       ":   0Age\n",
       ":   0SibSp\n",
       ":   0Parch\n",
       ":   0Ticket\n",
       ":   0Fare\n",
       ":   0Cabin\n",
       ":   0Embarked\n",
       ":   0\n",
       "\n"
      ],
      "text/plain": [
       "PassengerId    Survived      Pclass        Name         Sex         Age \n",
       "          0           0           0           0           0           0 \n",
       "      SibSp       Parch      Ticket        Fare       Cabin    Embarked \n",
       "          0           0           0           0           0           0 "
      ]
     },
     "metadata": {},
     "output_type": "display_data"
    }
   ],
   "source": [
    "missing_values <- colSums(is.na(titanic))\n",
    "missing_values"
   ]
  },
  {
   "cell_type": "code",
   "execution_count": 12,
   "id": "8910a9e3-a40b-41f7-b393-a37872deb08a",
   "metadata": {},
   "outputs": [],
   "source": [
    "# Data Transformation"
   ]
  },
  {
   "cell_type": "code",
   "execution_count": 13,
   "id": "bdc1db26-7d70-4237-8108-1ba8c46c9ab5",
   "metadata": {},
   "outputs": [
    {
     "name": "stdout",
     "output_type": "stream",
     "text": [
      "'data.frame':\t891 obs. of  12 variables:\n",
      " $ PassengerId: int  1 2 3 4 5 6 7 8 9 10 ...\n",
      " $ Survived   : int  0 1 1 1 0 0 0 0 1 1 ...\n",
      " $ Pclass     : int  3 1 3 1 3 3 1 3 3 2 ...\n",
      " $ Name       : chr  \"Braund, Mr. Owen Harris\" \"Cumings, Mrs. John Bradley (Florence Briggs Thayer)\" \"Heikkinen, Miss. Laina\" \"Futrelle, Mrs. Jacques Heath (Lily May Peel)\" ...\n",
      " $ Sex        : chr  \"male\" \"female\" \"female\" \"female\" ...\n",
      " $ Age        : num  22 38 26 35 35 28 54 2 27 14 ...\n",
      " $ SibSp      : int  1 1 0 1 0 0 0 3 0 1 ...\n",
      " $ Parch      : int  0 0 0 0 0 0 0 1 2 0 ...\n",
      " $ Ticket     : chr  \"A/5 21171\" \"PC 17599\" \"STON/O2. 3101282\" \"113803\" ...\n",
      " $ Fare       : num  7.25 71.28 7.92 53.1 8.05 ...\n",
      " $ Cabin      : chr  \"\" \"C85\" \"\" \"C123\" ...\n",
      " $ Embarked   : chr  \"S\" \"C\" \"S\" \"S\" ...\n"
     ]
    }
   ],
   "source": [
    "str(titanic)"
   ]
  },
  {
   "cell_type": "code",
   "execution_count": 14,
   "id": "4122189e-fc66-4599-904d-592249227813",
   "metadata": {},
   "outputs": [],
   "source": [
    "# Sex\n",
    "titanic$Sex <- as.factor(titanic$Sex)\n",
    "titanic$Sex <- as.numeric(titanic$Sex) - 1  # 0 for male, 1 for female"
   ]
  },
  {
   "cell_type": "code",
   "execution_count": 15,
   "id": "1703409b-a080-4046-a4fc-794117f121b8",
   "metadata": {},
   "outputs": [
    {
     "name": "stdout",
     "output_type": "stream",
     "text": [
      "'data.frame':\t891 obs. of  12 variables:\n",
      " $ PassengerId: int  1 2 3 4 5 6 7 8 9 10 ...\n",
      " $ Survived   : int  0 1 1 1 0 0 0 0 1 1 ...\n",
      " $ Pclass     : int  3 1 3 1 3 3 1 3 3 2 ...\n",
      " $ Name       : chr  \"Braund, Mr. Owen Harris\" \"Cumings, Mrs. John Bradley (Florence Briggs Thayer)\" \"Heikkinen, Miss. Laina\" \"Futrelle, Mrs. Jacques Heath (Lily May Peel)\" ...\n",
      " $ Sex        : num  1 0 0 0 1 1 1 1 0 0 ...\n",
      " $ Age        : num  22 38 26 35 35 28 54 2 27 14 ...\n",
      " $ SibSp      : int  1 1 0 1 0 0 0 3 0 1 ...\n",
      " $ Parch      : int  0 0 0 0 0 0 0 1 2 0 ...\n",
      " $ Ticket     : chr  \"A/5 21171\" \"PC 17599\" \"STON/O2. 3101282\" \"113803\" ...\n",
      " $ Fare       : num  7.25 71.28 7.92 53.1 8.05 ...\n",
      " $ Cabin      : chr  \"\" \"C85\" \"\" \"C123\" ...\n",
      " $ Embarked   : chr  \"S\" \"C\" \"S\" \"S\" ...\n"
     ]
    }
   ],
   "source": [
    "str(titanic)"
   ]
  },
  {
   "cell_type": "code",
   "execution_count": 16,
   "id": "acef6b24-c20e-4db2-8e98-65216d827ad6",
   "metadata": {},
   "outputs": [],
   "source": [
    "titanic$Embarked <- as.factor(titanic$Embarked)\n",
    "titanic <- cbind(titanic, model.matrix(~ Embarked - 1, data = titanic))"
   ]
  },
  {
   "cell_type": "code",
   "execution_count": 17,
   "id": "3a4931a8-fb87-4284-b018-a800c8297f35",
   "metadata": {},
   "outputs": [
    {
     "name": "stdout",
     "output_type": "stream",
     "text": [
      "'data.frame':\t891 obs. of  16 variables:\n",
      " $ PassengerId: int  1 2 3 4 5 6 7 8 9 10 ...\n",
      " $ Survived   : int  0 1 1 1 0 0 0 0 1 1 ...\n",
      " $ Pclass     : int  3 1 3 1 3 3 1 3 3 2 ...\n",
      " $ Name       : chr  \"Braund, Mr. Owen Harris\" \"Cumings, Mrs. John Bradley (Florence Briggs Thayer)\" \"Heikkinen, Miss. Laina\" \"Futrelle, Mrs. Jacques Heath (Lily May Peel)\" ...\n",
      " $ Sex        : num  1 0 0 0 1 1 1 1 0 0 ...\n",
      " $ Age        : num  22 38 26 35 35 28 54 2 27 14 ...\n",
      " $ SibSp      : int  1 1 0 1 0 0 0 3 0 1 ...\n",
      " $ Parch      : int  0 0 0 0 0 0 0 1 2 0 ...\n",
      " $ Ticket     : chr  \"A/5 21171\" \"PC 17599\" \"STON/O2. 3101282\" \"113803\" ...\n",
      " $ Fare       : num  7.25 71.28 7.92 53.1 8.05 ...\n",
      " $ Cabin      : chr  \"\" \"C85\" \"\" \"C123\" ...\n",
      " $ Embarked   : Factor w/ 4 levels \"\",\"C\",\"Q\",\"S\": 4 2 4 4 4 3 4 4 4 2 ...\n",
      " $ Embarked   : num  0 0 0 0 0 0 0 0 0 0 ...\n",
      " $ EmbarkedC  : num  0 1 0 0 0 0 0 0 0 1 ...\n",
      " $ EmbarkedQ  : num  0 0 0 0 0 1 0 0 0 0 ...\n",
      " $ EmbarkedS  : num  1 0 1 1 1 0 1 1 1 0 ...\n"
     ]
    }
   ],
   "source": [
    "str(titanic)"
   ]
  },
  {
   "cell_type": "code",
   "execution_count": 18,
   "id": "f3a8103f-6480-4ac6-b20f-29a1c708d6d1",
   "metadata": {},
   "outputs": [],
   "source": [
    "# Step:04 Exploratory Data Analysis"
   ]
  },
  {
   "cell_type": "code",
   "execution_count": 19,
   "id": "af8447b3-8dca-4a2d-bc0a-773e1f6873ea",
   "metadata": {},
   "outputs": [],
   "source": [
    "if (!dir.exists(\"plots\")) {\n",
    "  dir.create(\"plots\")\n",
    "}"
   ]
  },
  {
   "cell_type": "code",
   "execution_count": 20,
   "id": "cf90545e-1c68-4ad3-be82-0c890f8d3565",
   "metadata": {},
   "outputs": [
    {
     "data": {
      "image/png": "[encoded data removed]",
      "text/plain": [
       "Plot with title \"Distribution of Age\""
      ]
     },
     "metadata": {
      "image/png": {
       "height": 420,
       "width": 420
      }
     },
     "output_type": "display_data"
    }
   ],
   "source": [
    "# Univariate Analysis\n",
    "# Histogram of Age\n",
    "hist(titanic$Age, main = \"Distribution of Age\")"
   ]
  },
  {
   "cell_type": "code",
   "execution_count": 21,
   "id": "bbdae11d-5f3f-48f9-8e03-07d0fe635432",
   "metadata": {},
   "outputs": [
    {
     "data": {
      "text/html": [
       "<strong>png:</strong> 2"
      ],
      "text/latex": [
       "\\textbf{png:} 2"
      ],
      "text/markdown": [
       "**png:** 2"
      ],
      "text/plain": [
       "png \n",
       "  2 "
      ]
     },
     "metadata": {},
     "output_type": "display_data"
    }
   ],
   "source": [
    "# Univariate Analysis\n",
    "# Histogram of Age\n",
    "png(\"plots/HistogramAge.png\", width = 800, height = 600)\n",
    "hist(titanic$Age, main = \"Distribution of Age\")\n",
    "dev.off()"
   ]
  },
  {
   "cell_type": "code",
   "execution_count": 22,
   "id": "204d2528-7d50-4a7a-82b7-ab7b43a17ca6",
   "metadata": {},
   "outputs": [
    {
     "data": {
      "image/png": "[encoded data removed]",
      "text/plain": [
       "Plot with title \"Survival Count\""
      ]
     },
     "metadata": {
      "image/png": {
       "height": 420,
       "width": 420
      }
     },
     "output_type": "display_data"
    }
   ],
   "source": [
    "# Bar plot of Survived\n",
    "barplot(table(titanic$Survived), main = \"Survival Count\", xlab = \"Survived\", ylab = \"Count\")"
   ]
  },
  {
   "cell_type": "code",
   "execution_count": 23,
   "id": "dafcce32-9094-4c12-9438-aa4e521344cf",
   "metadata": {},
   "outputs": [
    {
     "data": {
      "text/html": [
       "<strong>png:</strong> 2"
      ],
      "text/latex": [
       "\\textbf{png:} 2"
      ],
      "text/markdown": [
       "**png:** 2"
      ],
      "text/plain": [
       "png \n",
       "  2 "
      ]
     },
     "metadata": {},
     "output_type": "display_data"
    }
   ],
   "source": [
    "png(\"plots/BarplotSurvived.png\", width = 800, height = 600)\n",
    "barplot(table(titanic$Survived), main = \"Survival Count\", xlab = \"Survived\", ylab = \"Count\")\n",
    "dev.off()"
   ]
  },
  {
   "cell_type": "code",
   "execution_count": 24,
   "id": "37d21f5d-53fc-4548-87c6-bec5ceafc67e",
   "metadata": {},
   "outputs": [],
   "source": [
    "# # Bivariate Analysis\n",
    "# # Scatter plot of Age vs. Fare\n",
    "# plot(titanic$Age, titanic$Fare, \n",
    "#      main = \"Scatter plot of Age vs. Fare\",\n",
    "#      xlab = \"Age\", ylab = \"Fare\",\n",
    "#      col = \"blue\")  "
   ]
  },
  {
   "cell_type": "code",
   "execution_count": 25,
   "id": "357ad399-2803-48c5-938f-13d06b076aeb",
   "metadata": {},
   "outputs": [
    {
     "data": {
      "image/png": "[encoded data removed]",
      "text/plain": [
       "Plot with title \"Scatter plot of Age vs. Fare\""
      ]
     },
     "metadata": {
      "image/png": {
       "height": 420,
       "width": 420
      }
     },
     "output_type": "display_data"
    }
   ],
   "source": [
    "# Example scatter plot of Age vs. Fare from the Titanic dataset\n",
    "\n",
    "# Plotting Age vs. Fare\n",
    "plot(titanic$Age, titanic$Fare,\n",
    "     xlab = \"Age\", ylab = \"Fare\",\n",
    "     main = \"Scatter plot of Age vs. Fare\",\n",
    "     col = ifelse(titanic$Survived == 1, \"blue\", \"red\"), # Color points based on survival\n",
    "     pch = 16) # Use solid circles as points\n",
    "     \n",
    "# Adding a legend\n",
    "legend(\"topright\", legend = c(\"Survived\", \"Not Survived\"),\n",
    "       col = c(\"blue\", \"red\"), pch = 16,\n",
    "       title = \"Survival Status\")\n"
   ]
  },
  {
   "cell_type": "code",
   "execution_count": 38,
   "id": "f866367f-bbca-42ca-8c86-30c0ee215c96",
   "metadata": {},
   "outputs": [
    {
     "data": {
      "text/html": [
       "<strong>png:</strong> 2"
      ],
      "text/latex": [
       "\\textbf{png:} 2"
      ],
      "text/markdown": [
       "**png:** 2"
      ],
      "text/plain": [
       "png \n",
       "  2 "
      ]
     },
     "metadata": {},
     "output_type": "display_data"
    }
   ],
   "source": [
    "png(\"plots/ScatterplotAgeFare.png\", width = 800, height = 600)\n",
    "\n",
    "plot(titanic$Age, titanic$Fare,\n",
    "     xlab = \"Age\", ylab = \"Fare\",\n",
    "     main = \"Scatter plot of Age vs. Fare\",\n",
    "     col = ifelse(titanic$Survived == 1, \"blue\", \"red\"), # Color points based on survival\n",
    "     pch = 16) # Use solid circles as points\n",
    "     \n",
    "# Adding a legend\n",
    "legend(\"topright\", legend = c(\"Survived\", \"Not Survived\"),\n",
    "       col = c(\"blue\", \"red\"), pch = 16,\n",
    "       title = \"Survival Status\")\n",
    "dev.off()"
   ]
  },
  {
   "cell_type": "code",
   "execution_count": 26,
   "id": "f6f7f6eb-c74c-46a6-b69e-4c241aa88d1f",
   "metadata": {},
   "outputs": [
    {
     "data": {
      "image/png": "[encoded data removed]",
      "text/plain": [
       "Plot with title \"Boxplot of Age by Survived\""
      ]
     },
     "metadata": {
      "image/png": {
       "height": 420,
       "width": 420
      }
     },
     "output_type": "display_data"
    }
   ],
   "source": [
    "# Boxplot of Age by Survived\n",
    "boxplot(Age ~ Survived, data = titanic, xlab = \"Survived\", ylab = \"Age\", main = \"Boxplot of Age by Survived\")"
   ]
  },
  {
   "cell_type": "code",
   "execution_count": 39,
   "id": "221f9fe4-04b4-4929-887f-e0eb4278a820",
   "metadata": {},
   "outputs": [
    {
     "data": {
      "text/html": [
       "<strong>png:</strong> 2"
      ],
      "text/latex": [
       "\\textbf{png:} 2"
      ],
      "text/markdown": [
       "**png:** 2"
      ],
      "text/plain": [
       "png \n",
       "  2 "
      ]
     },
     "metadata": {},
     "output_type": "display_data"
    }
   ],
   "source": [
    "png(\"plots/BpxoxplotAgeSurvived.png\", width = 800, height = 600)\n",
    "boxplot(Age ~ Survived, data = titanic, xlab = \"Survived\", ylab = \"Age\", main = \"Boxplot of Age by Survived\")\n",
    "dev.off()"
   ]
  },
  {
   "cell_type": "code",
   "execution_count": 27,
   "id": "3510a33e-2032-4623-949a-924f1a1e5d0f",
   "metadata": {},
   "outputs": [],
   "source": [
    "# Multivariate Analysis"
   ]
  },
  {
   "cell_type": "code",
   "execution_count": 28,
   "id": "717d2584-2946-45c2-8366-1a63997d8118",
   "metadata": {},
   "outputs": [
    {
     "name": "stdout",
     "output_type": "stream",
     "text": [
      "package 'corrplot' successfully unpacked and MD5 sums checked\n",
      "\n",
      "The downloaded binary packages are in\n",
      "\tC:\\Users\\arush\\AppData\\Local\\Temp\\Rtmpu8BTmB\\downloaded_packages\n"
     ]
    }
   ],
   "source": [
    "install.packages(\"corrplot\")"
   ]
  },
  {
   "cell_type": "code",
   "execution_count": 29,
   "id": "cd8570d8-20e1-4d66-8476-ff218a64175e",
   "metadata": {},
   "outputs": [
    {
     "name": "stderr",
     "output_type": "stream",
     "text": [
      "corrplot 0.92 loaded\n",
      "\n"
     ]
    }
   ],
   "source": [
    "library(corrplot)"
   ]
  },
  {
   "cell_type": "code",
   "execution_count": 30,
   "id": "cc7637af-94e0-4f66-a6e5-557fde0a861a",
   "metadata": {},
   "outputs": [],
   "source": [
    "# # Calculate correlation matrix for numerical variables\n",
    "# cor_matrix <- cor(titanic[, c(\"Age\", \"Fare\")])\n",
    "# print(cor_matrix)\n",
    "\n",
    "# # Visualize correlation matrix\n",
    "# corrplot(cor_matrix, method = \"color\")"
   ]
  },
  {
   "cell_type": "code",
   "execution_count": 31,
   "id": "76b12650-f173-4394-842b-ff7df909ee6a",
   "metadata": {},
   "outputs": [
    {
     "name": "stdout",
     "output_type": "stream",
     "text": [
      "            Survived      Pclass         Age       SibSp       Parch\n",
      "Survived  1.00000000 -0.33848104 -0.06491042 -0.03532250  0.08162941\n",
      "Pclass   -0.33848104  1.00000000 -0.33989833  0.08308136  0.01844267\n",
      "Age      -0.06491042 -0.33989833  1.00000000 -0.23329633 -0.17248195\n",
      "SibSp    -0.03532250  0.08308136 -0.23329633  1.00000000  0.41483770\n",
      "Parch     0.08162941  0.01844267 -0.17248195  0.41483770  1.00000000\n",
      "Fare      0.25730652 -0.54949962  0.09668842  0.15965104  0.21622494\n",
      "                Fare\n",
      "Survived  0.25730652\n",
      "Pclass   -0.54949962\n",
      "Age       0.09668842\n",
      "SibSp     0.15965104\n",
      "Parch     0.21622494\n",
      "Fare      1.00000000\n"
     ]
    },
    {
     "data": {
      "image/png": "[encoded data removed]",
      "text/plain": [
       "Plot with title \"\""
      ]
     },
     "metadata": {
      "image/png": {
       "height": 420,
       "width": 420
      }
     },
     "output_type": "display_data"
    }
   ],
   "source": [
    "numeric_vars <- titanic[, c(\"Survived\", \"Pclass\", \"Age\", \"SibSp\", \"Parch\", \"Fare\")]\n",
    "# Calculate correlation matrix\n",
    "correlation_matrix <- cor(numeric_vars)\n",
    "print(correlation_matrix)\n",
    "\n",
    "# Visualize correlation matrix using a heatmap with corrplot\n",
    "corrplot(correlation_matrix, method = \"color\", \n",
    "         type = \"upper\", # Show only upper triangle of the correlation matrix\n",
    "         tl.col = \"black\", # Color of text labels\n",
    "         tl.srt = 45, # Rotate text labels for better readability\n",
    "         addCoef.col = \"black\", # Color of correlation coefficients\n",
    "         diag = FALSE) # Exclude diagonal elements (which are 1 by definition)\n"
   ]
  },
  {
   "cell_type": "code",
   "execution_count": 40,
   "id": "822ebb3d-fd7f-4e0e-9f34-be901da5a3ba",
   "metadata": {},
   "outputs": [
    {
     "data": {
      "text/html": [
       "<strong>png:</strong> 2"
      ],
      "text/latex": [
       "\\textbf{png:} 2"
      ],
      "text/markdown": [
       "**png:** 2"
      ],
      "text/plain": [
       "png \n",
       "  2 "
      ]
     },
     "metadata": {},
     "output_type": "display_data"
    }
   ],
   "source": [
    "png(\"plots/CorrplotSurPclAgeSibSpParFare.png\", width = 800, height = 600)\n",
    "\n",
    "corrplot(correlation_matrix, method = \"color\", \n",
    "         type = \"upper\", # Show only upper triangle of the correlation matrix\n",
    "         tl.col = \"black\", # Color of text labels\n",
    "         tl.srt = 45, # Rotate text labels for better readability\n",
    "         addCoef.col = \"black\", # Color of correlation coefficients\n",
    "         diag = FALSE) # Exclude diagonal elements (which are 1 by definition)\n",
    "\n",
    "dev.off()"
   ]
  },
  {
   "cell_type": "code",
   "execution_count": 32,
   "id": "0fd34d99-5581-4c87-8840-38896fc10228",
   "metadata": {},
   "outputs": [
    {
     "data": {
      "text/plain": [
       "   \n",
       "      0   1\n",
       "  0  81 468\n",
       "  1 233 109"
      ]
     },
     "metadata": {},
     "output_type": "display_data"
    }
   ],
   "source": [
    "# Survival rate by gender\n",
    "table(titanic$Survived, titanic$Sex)"
   ]
  },
  {
   "cell_type": "code",
   "execution_count": 33,
   "id": "023bbdb4-272a-4d1d-a2b5-deb449b83776",
   "metadata": {},
   "outputs": [
    {
     "data": {
      "text/plain": [
       "   \n",
       "            1         2         3\n",
       "  0 0.1457195 0.1766849 0.6775956\n",
       "  1 0.3976608 0.2543860 0.3479532"
      ]
     },
     "metadata": {},
     "output_type": "display_data"
    }
   ],
   "source": [
    "# Impact of passenger class on survival.\n",
    "prop.table(table(titanic$Survived, titanic$Pclass), 1)"
   ]
  },
  {
   "cell_type": "code",
   "execution_count": 34,
   "id": "27666ff3-423c-482e-8307-c392ced74428",
   "metadata": {},
   "outputs": [],
   "source": [
    "# Distribution of fares and its relationship with survival."
   ]
  },
  {
   "cell_type": "code",
   "execution_count": 35,
   "id": "c42fd2ef-a168-4029-8759-d5ecb422b9ff",
   "metadata": {},
   "outputs": [
    {
     "data": {
      "image/png": "[encoded data removed]",
      "text/plain": [
       "Plot with title \"Distribution of Fares\""
      ]
     },
     "metadata": {
      "image/png": {
       "height": 420,
       "width": 420
      }
     },
     "output_type": "display_data"
    }
   ],
   "source": [
    "# Exploring Fare Distribution\n",
    "# Histogram of Fare distribution\n",
    "hist(titanic$Fare, breaks = 20, col = \"skyblue\", \n",
    "     xlab = \"Fare\", main = \"Distribution of Fares\")"
   ]
  },
  {
   "cell_type": "code",
   "execution_count": 36,
   "id": "3e703272-779d-4afc-b394-3243c0906479",
   "metadata": {},
   "outputs": [
    {
     "data": {
      "image/png": "[encoded data removed]",
      "text/plain": [
       "Plot with title \"Boxplot of Fare by Survival\""
      ]
     },
     "metadata": {
      "image/png": {
       "height": 420,
       "width": 420
      }
     },
     "output_type": "display_data"
    }
   ],
   "source": [
    "# Relationship between Fare and Survival\n",
    "# Box plot of Fare by Survived\n",
    "boxplot(Fare ~ Survived, data = titanic, \n",
    "        xlab = \"Survived\", ylab = \"Fare\",\n",
    "        main = \"Boxplot of Fare by Survival\",\n",
    "        col = c(\"lightblue\", \"lightgreen\"),\n",
    "        names = c(\"Not Survived\", \"Survived\"))"
   ]
  },
  {
   "cell_type": "code",
   "execution_count": 37,
   "id": "c9a9c963-0ac9-46ab-97ca-6cccdfbaf7da",
   "metadata": {},
   "outputs": [
    {
     "data": {
      "text/plain": [
       "   Min. 1st Qu.  Median    Mean 3rd Qu.    Max. \n",
       "   0.00    7.91   14.45   32.20   31.00  512.33 "
      ]
     },
     "metadata": {},
     "output_type": "display_data"
    },
    {
     "data": {
      "text/plain": [
       "   Min. 1st Qu.  Median    Mean 3rd Qu.    Max. \n",
       "   0.00   12.47   26.00   48.40   57.00  512.33 "
      ]
     },
     "metadata": {},
     "output_type": "display_data"
    },
    {
     "data": {
      "text/plain": [
       "   Min. 1st Qu.  Median    Mean 3rd Qu.    Max. \n",
       "  0.000   7.854  10.500  22.118  26.000 263.000 "
      ]
     },
     "metadata": {},
     "output_type": "display_data"
    }
   ],
   "source": [
    "# Statistical Summary\n",
    "# Summary statistics of Fare by Survived\n",
    "summary(titanic$Fare)\n",
    "summary(titanic$Fare[titanic$Survived == 1])\n",
    "summary(titanic$Fare[titanic$Survived == 0])"
   ]
  },
  {
   "cell_type": "code",
   "execution_count": null,
   "id": "272a46d9-226c-48a3-869e-f36ac160cb01",
   "metadata": {},
   "outputs": [],
   "source": []
  }
 ],
 "metadata": {
  "kernelspec": {
   "display_name": "R",
   "language": "R",
   "name": "ir"
  },
  "language_info": {
   "codemirror_mode": "r",
   "file_extension": ".r",
   "mimetype": "text/x-r-source",
   "name": "R",
   "pygments_lexer": "r",
   "version": "4.4.1"
  }
 },
 "nbformat": 4,
 "nbformat_minor": 5
}
